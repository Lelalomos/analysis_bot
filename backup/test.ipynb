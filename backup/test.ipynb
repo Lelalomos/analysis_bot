{
 "cells": [
  {
   "cell_type": "code",
   "execution_count": 3,
   "metadata": {},
   "outputs": [],
   "source": [
    "from tvdatafeed import TvDatafeed\n",
    "from tvDatafeed import Interval"
   ]
  },
  {
   "cell_type": "code",
   "execution_count": 4,
   "metadata": {},
   "outputs": [
    {
     "name": "stderr",
     "output_type": "stream",
     "text": [
      "you are using nologin method, data you access may be limited\n"
     ]
    }
   ],
   "source": [
    "datafeed = TvDatafeed()"
   ]
  },
  {
   "cell_type": "code",
   "execution_count": 6,
   "metadata": {},
   "outputs": [
    {
     "data": {
      "text/html": [
       "<div>\n",
       "<style scoped>\n",
       "    .dataframe tbody tr th:only-of-type {\n",
       "        vertical-align: middle;\n",
       "    }\n",
       "\n",
       "    .dataframe tbody tr th {\n",
       "        vertical-align: top;\n",
       "    }\n",
       "\n",
       "    .dataframe thead th {\n",
       "        text-align: right;\n",
       "    }\n",
       "</style>\n",
       "<table border=\"1\" class=\"dataframe\">\n",
       "  <thead>\n",
       "    <tr style=\"text-align: right;\">\n",
       "      <th></th>\n",
       "      <th>symbol</th>\n",
       "      <th>open</th>\n",
       "      <th>high</th>\n",
       "      <th>low</th>\n",
       "      <th>close</th>\n",
       "      <th>volume</th>\n",
       "    </tr>\n",
       "    <tr>\n",
       "      <th>datetime</th>\n",
       "      <th></th>\n",
       "      <th></th>\n",
       "      <th></th>\n",
       "      <th></th>\n",
       "      <th></th>\n",
       "      <th></th>\n",
       "    </tr>\n",
       "  </thead>\n",
       "  <tbody>\n",
       "    <tr>\n",
       "      <th>2023-05-15 09:00:00</th>\n",
       "      <td>SET:TOP</td>\n",
       "      <td>47.50</td>\n",
       "      <td>47.50</td>\n",
       "      <td>46.50</td>\n",
       "      <td>46.75</td>\n",
       "      <td>12972817.0</td>\n",
       "    </tr>\n",
       "    <tr>\n",
       "      <th>2023-05-16 09:00:00</th>\n",
       "      <td>SET:TOP</td>\n",
       "      <td>46.50</td>\n",
       "      <td>47.25</td>\n",
       "      <td>46.25</td>\n",
       "      <td>46.75</td>\n",
       "      <td>7534101.0</td>\n",
       "    </tr>\n",
       "    <tr>\n",
       "      <th>2023-05-17 09:00:00</th>\n",
       "      <td>SET:TOP</td>\n",
       "      <td>46.50</td>\n",
       "      <td>46.75</td>\n",
       "      <td>44.50</td>\n",
       "      <td>45.00</td>\n",
       "      <td>14231606.0</td>\n",
       "    </tr>\n",
       "    <tr>\n",
       "      <th>2023-05-18 09:00:00</th>\n",
       "      <td>SET:TOP</td>\n",
       "      <td>46.25</td>\n",
       "      <td>46.25</td>\n",
       "      <td>45.50</td>\n",
       "      <td>45.50</td>\n",
       "      <td>9017433.0</td>\n",
       "    </tr>\n",
       "    <tr>\n",
       "      <th>2023-05-19 09:00:00</th>\n",
       "      <td>SET:TOP</td>\n",
       "      <td>45.50</td>\n",
       "      <td>45.75</td>\n",
       "      <td>44.50</td>\n",
       "      <td>44.75</td>\n",
       "      <td>10594605.0</td>\n",
       "    </tr>\n",
       "  </tbody>\n",
       "</table>\n",
       "</div>"
      ],
      "text/plain": [
       "                      symbol   open   high    low  close      volume\n",
       "datetime                                                            \n",
       "2023-05-15 09:00:00  SET:TOP  47.50  47.50  46.50  46.75  12972817.0\n",
       "2023-05-16 09:00:00  SET:TOP  46.50  47.25  46.25  46.75   7534101.0\n",
       "2023-05-17 09:00:00  SET:TOP  46.50  46.75  44.50  45.00  14231606.0\n",
       "2023-05-18 09:00:00  SET:TOP  46.25  46.25  45.50  45.50   9017433.0\n",
       "2023-05-19 09:00:00  SET:TOP  45.50  45.75  44.50  44.75  10594605.0"
      ]
     },
     "execution_count": 6,
     "metadata": {},
     "output_type": "execute_result"
    }
   ],
   "source": [
    "getd = datafeed.get_hist(\"TOP\", \"SET\", interval=Interval.in_daily, n_bars=5)\n",
    "getd"
   ]
  },
  {
   "cell_type": "code",
   "execution_count": null,
   "metadata": {},
   "outputs": [],
   "source": []
  }
 ],
 "metadata": {
  "kernelspec": {
   "display_name": "stock",
   "language": "python",
   "name": "python3"
  },
  "language_info": {
   "codemirror_mode": {
    "name": "ipython",
    "version": 3
   },
   "file_extension": ".py",
   "mimetype": "text/x-python",
   "name": "python",
   "nbconvert_exporter": "python",
   "pygments_lexer": "ipython3",
   "version": "3.9.16"
  },
  "orig_nbformat": 4
 },
 "nbformat": 4,
 "nbformat_minor": 2
}
