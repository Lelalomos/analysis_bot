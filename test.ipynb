{
 "cells": [
  {
   "cell_type": "code",
   "execution_count": 1,
   "metadata": {},
   "outputs": [],
   "source": [
    "from tvDatafeed import TvDatafeed,Interval\n",
    "import matplotlib.pyplot as plt\n",
    "import pandas as pd\n",
    "import multiprocessing as mp\n",
    "import os\n",
    "import json\n",
    "import numpy as np\n",
    "import requests\n",
    "from trade import cross_ema, ichimoku_cloud, macd, collect_mtfssl_pvtdiver\n",
    "from sklearn import preprocessing\n",
    "import datetime\n",
    "# from talib.abstract import EMA, MACD\n",
    "\n",
    "pd.set_option('display.max_rows', 500)\n",
    "pd.set_option('display.max_columns', 500)\n",
    "pd.set_option('display.width', 1000)"
   ]
  },
  {
   "cell_type": "code",
   "execution_count": 2,
   "metadata": {},
   "outputs": [
    {
     "name": "stderr",
     "output_type": "stream",
     "text": [
      "you are using nologin method, data you access may be limited\n"
     ]
    }
   ],
   "source": [
    "tv = TvDatafeed(username=None,password=None)"
   ]
  },
  {
   "cell_type": "code",
   "execution_count": 112,
   "metadata": {},
   "outputs": [],
   "source": [
    "nifty_data=tv.get_hist('TENCENT80','SET',interval=Interval.in_daily,n_bars=10000)"
   ]
  },
  {
   "cell_type": "code",
   "execution_count": 3,
   "metadata": {},
   "outputs": [],
   "source": [
    "with open(os.path.join(os.getcwd(),'config','list_stock','stock_config.json')) as f:\n",
    "    json_stock = json.load(f)"
   ]
  },
  {
   "cell_type": "code",
   "execution_count": 4,
   "metadata": {},
   "outputs": [],
   "source": [
    "def get_data(tv, exchange, name_stock, n_bars):\n",
    "    return tv.get_hist(name_stock, exchange, interval=Interval.in_daily, n_bars=n_bars)"
   ]
  },
  {
   "cell_type": "code",
   "execution_count": 6,
   "metadata": {},
   "outputs": [],
   "source": [
    "from trade import pvt_with_divergence"
   ]
  },
  {
   "cell_type": "code",
   "execution_count": 15,
   "metadata": {},
   "outputs": [
    {
     "name": "stdout",
     "output_type": "stream",
     "text": [
      "close value: 2.0\n",
      "result: 0.25\n"
     ]
    }
   ],
   "source": [
    "\n",
    "df = get_data(tv, \"SET\", \"TOP\", 3000)\n",
    "df = df.reset_index()\n",
    "print('close value:',df['close'].iloc[-1] - min(df['close'][-5:]))\n",
    "print('result:',df['close'].iloc[-1] - df['close'].iloc[-2])\n",
    "# pvtup, pvtdown, pvt_osc = pvt_with_divergence(df, 90, 95)\n",
    "# pvt_osc = normalize_list(pvt_osc)\n",
    "# plt.figure(figsize=(10, 7))\n",
    "# plt.plot(pvt_osc,'r', label='pvt_osc')\n",
    "# plt.plot(pvtup,'g', label='pvtup')\n",
    "# plt.legend()\n",
    "# plt.show()\n",
    "# pvtup = pvtup.dropna()\n",
    "# pvtdown = pvtdown.dropna()\n",
    "# pvtup.to_list()[-1]\n",
    "# type(pvtdown)\n",
    "# rr = collect_mtfssl_pvtdiver(df,3,20)\n",
    "# rr\n"
   ]
  },
  {
   "cell_type": "code",
   "execution_count": 20,
   "metadata": {},
   "outputs": [
    {
     "name": "stdout",
     "output_type": "stream",
     "text": [
      "test: 64.19213628562352\n"
     ]
    },
    {
     "data": {
      "text/plain": [
       "4571   2022-12-08 09:00:00\n",
       "Name: datetime, dtype: datetime64[ns]"
      ]
     },
     "execution_count": 20,
     "metadata": {},
     "output_type": "execute_result"
    }
   ],
   "source": [
    "indicator_config = {\n",
    "    \"cross_ema\":{\n",
    "        \"low_span\": 90,\n",
    "        \"long_span\": 95\n",
    "    },\n",
    "    \"plot_config\":{\n",
    "        \"plot\": False,\n",
    "        \"n_bar\": 60\n",
    "    }\n",
    "}\n",
    "    \n",
    "# หาวันที่ควรซื้อหุ้นนี้ล่าสุด\n",
    "df = get_data(tv, \"SET\", \"CPALL\", 10000)\n",
    "result, df = cross_ema(df,\"CPALL\",**indicator_config)\n",
    "df = df.reset_index()\n",
    "df = df.dropna()\n",
    "df = df.reset_index()\n",
    "df['bors'] = df['low_df'] - df['long_df']\n",
    "index_value = df[df['bors'] < 0].iloc[-1:].index.values[0]\n",
    "df_date_buy = df.iloc[[int(index_value)+1]]\n",
    "df_date_buy['datetime']\n",
    "# df['bors'] = df.apply(calc_sum)\n",
    "\n",
    "# df[df['ema']==0].iloc[-1:]"
   ]
  },
  {
   "cell_type": "code",
   "execution_count": 21,
   "metadata": {},
   "outputs": [],
   "source": [
    "import datetime"
   ]
  },
  {
   "cell_type": "code",
   "execution_count": 22,
   "metadata": {},
   "outputs": [
    {
     "data": {
      "text/plain": [
       "numpy.datetime64('2022-12-08T09:00:00.000000000')"
      ]
     },
     "execution_count": 22,
     "metadata": {},
     "output_type": "execute_result"
    }
   ],
   "source": [
    "df_date_buy['datetime'].values[0]"
   ]
  },
  {
   "cell_type": "code",
   "execution_count": 23,
   "metadata": {},
   "outputs": [
    {
     "data": {
      "text/plain": [
       "datetime.datetime(2022, 12, 8, 9, 0)"
      ]
     },
     "execution_count": 23,
     "metadata": {},
     "output_type": "execute_result"
    }
   ],
   "source": [
    "# convert from numpy.datetime64 to datetime.datetime\n",
    "unix_epoch = np.datetime64(0, 's')\n",
    "one_second = np.timedelta64(1, 's')\n",
    "seconds_since_epoch = (df_date_buy['datetime'].values[0] - unix_epoch) / one_second\n",
    "d = datetime.datetime.utcfromtimestamp(seconds_since_epoch)\n",
    "d"
   ]
  },
  {
   "cell_type": "code",
   "execution_count": 24,
   "metadata": {},
   "outputs": [
    {
     "name": "stdout",
     "output_type": "stream",
     "text": [
      "43\n"
     ]
    }
   ],
   "source": [
    "cc = datetime.datetime.today().date() - d.date()\n",
    "print(cc.days)"
   ]
  },
  {
   "cell_type": "code",
   "execution_count": 8,
   "metadata": {},
   "outputs": [],
   "source": [
    "from talib.abstract import EMA, MACD"
   ]
  },
  {
   "cell_type": "code",
   "execution_count": 9,
   "metadata": {},
   "outputs": [],
   "source": [
    "def macd_test(df, namest):\n",
    "    df['macd_line'], df[\"signal_line\"], _ = MACD(df['close'])\n",
    "    macd_line = list(df['macd_line'])\n",
    "    signal_line = list(df[\"signal_line\"])\n",
    "        \n",
    "    #     buy\n",
    "    if macd_line[-1] > signal_line[-1]:\n",
    "        return 2, df #False\n",
    "    #     sell\n",
    "    elif macd_line[-1] < signal_line[-1]:\n",
    "        return -1, df #True\n",
    "    return 0, df"
   ]
  },
  {
   "cell_type": "code",
   "execution_count": 19,
   "metadata": {},
   "outputs": [
    {
     "data": {
      "text/plain": [
       "{'b': 20, 'a': 12, 'c': 2}"
      ]
     },
     "execution_count": 19,
     "metadata": {},
     "output_type": "execute_result"
    }
   ],
   "source": [
    "v = {'a':12,'b':20,'c':2}\n",
    "dict(sorted(v.items(), key=lambda item: item[1],reverse=True))\n"
   ]
  },
  {
   "cell_type": "code",
   "execution_count": 20,
   "metadata": {},
   "outputs": [
    {
     "data": {
      "text/plain": [
       "{'a': 1, 'b': 12}"
      ]
     },
     "execution_count": 20,
     "metadata": {},
     "output_type": "execute_result"
    }
   ],
   "source": [
    "r= {}\n",
    "r['a']=1\n",
    "r['b']=12\n",
    "r"
   ]
  },
  {
   "cell_type": "code",
   "execution_count": 11,
   "metadata": {},
   "outputs": [
    {
     "data": {
      "text/html": [
       "<div>\n",
       "<style scoped>\n",
       "    .dataframe tbody tr th:only-of-type {\n",
       "        vertical-align: middle;\n",
       "    }\n",
       "\n",
       "    .dataframe tbody tr th {\n",
       "        vertical-align: top;\n",
       "    }\n",
       "\n",
       "    .dataframe thead th {\n",
       "        text-align: right;\n",
       "    }\n",
       "</style>\n",
       "<table border=\"1\" class=\"dataframe\">\n",
       "  <thead>\n",
       "    <tr style=\"text-align: right;\">\n",
       "      <th></th>\n",
       "      <th>datetime</th>\n",
       "      <th>symbol</th>\n",
       "      <th>open</th>\n",
       "      <th>high</th>\n",
       "      <th>low</th>\n",
       "      <th>close</th>\n",
       "      <th>volume</th>\n",
       "    </tr>\n",
       "  </thead>\n",
       "  <tbody>\n",
       "    <tr>\n",
       "      <th>32</th>\n",
       "      <td>2022-10-07 09:00:00</td>\n",
       "      <td>SET:CPALL</td>\n",
       "      <td>54.5</td>\n",
       "      <td>54.5</td>\n",
       "      <td>53.5</td>\n",
       "      <td>53.75</td>\n",
       "      <td>11873659.0</td>\n",
       "    </tr>\n",
       "  </tbody>\n",
       "</table>\n",
       "</div>"
      ],
      "text/plain": [
       "              datetime     symbol  open  high   low  close      volume\n",
       "32 2022-10-07 09:00:00  SET:CPALL  54.5  54.5  53.5  53.75  11873659.0"
      ]
     },
     "execution_count": 11,
     "metadata": {},
     "output_type": "execute_result"
    }
   ],
   "source": [
    "df = get_data(tv, \"SET\", \"CPALL\", 100)\n",
    "df = df.reset_index()\n",
    "df = df[df['close'] == min(list(df['close']))] \n",
    "df\n",
    "# df = df.iloc[:,2:]\n",
    "\n",
    "# c= macd_test(df=df, namest=\"CPALL\")\n",
    "# ichimoku_cloud(df = df, namest=\"CPALL\")\n",
    "# macd(df = df, namest=\"CPALL\")\n",
    "# low_df = EMA(df['close'], 90)\n",
    "# print(low_df[-1])\n",
    "# low_df\n",
    "# long_df = EMA(df['close'], long_span)"
   ]
  },
  {
   "cell_type": "code",
   "execution_count": 35,
   "metadata": {},
   "outputs": [
    {
     "name": "stdout",
     "output_type": "stream",
     "text": [
      "{'low_span': 90, 'long_span': 95}\n",
      "{'low_span': 100, 'long_span': 200}\n"
     ]
    }
   ],
   "source": [
    "indicator_config = {\n",
    "    \"ema\":[\n",
    "        {\n",
    "            \"low_span\": 90,\n",
    "            \"long_span\": 95\n",
    "        },\n",
    "        {\n",
    "            \"low_span\": 100,\n",
    "            \"long_span\": 200\n",
    "        }\n",
    "    ]\n",
    "}\n",
    "for i in indicator_config['ema']:\n",
    "    print(i)"
   ]
  },
  {
   "cell_type": "code",
   "execution_count": 15,
   "metadata": {},
   "outputs": [
    {
     "data": {
      "text/plain": [
       "1.013803161925182"
      ]
     },
     "execution_count": 15,
     "metadata": {},
     "output_type": "execute_result"
    }
   ],
   "source": [
    "list(df['macd_line'])[-1]"
   ]
  },
  {
   "cell_type": "code",
   "execution_count": 5,
   "metadata": {},
   "outputs": [
    {
     "name": "stdout",
     "output_type": "stream",
     "text": [
      "dict_stock_name_score: {'M': 0, 'CRC': 0, 'HMPRO': 0, 'TISCO': 0, 'CPALL': 0, 'KBANK': 0, 'DELTA': 0, 'AOT': 0, 'BANPU': 0, 'BDMS': 0, 'ADVANC': 0, 'PTTEP': 0, 'PTT': 0, 'COM7': 0, 'TOP': 0, 'SCB': 0, 'THG': 0, 'AAPL': 0, 'TSLA': 0, 'NFLX': 0, 'BNTX': 0, 'AMZN': 0, 'MSFT': 0, 'META': 0, 'NVDA': 0, 'GOOGL': 0, 'GOOG': 0, 'PYPL': 0}\n",
      "----------------------------------------------------------------------------------------------------\n",
      "dict_min_value_1_sort: {'DELTA': 304.0, 'NFLX': 61.119999999999976, 'META': 47.24000000000001, 'NVDA': 42.99000000000001, 'TSLA': 19.070000000000007, 'MSFT': 17.680000000000007, 'ADVANC': 17.0, 'KBANK': 12.0, 'AMZN': 11.860000000000014, 'GOOG': 10.420000000000002, 'AAPL': 10.250000000000014, 'CPALL': 10.25, 'GOOGL': 9.61999999999999, 'PYPL': 9.200000000000003, 'BNTX': 8.300000000000011, 'SCB': 8.0, 'TISCO': 7.75, 'TOP': 6.25, 'PTTEP': 6.0, 'THG': 4.75, 'CRC': 3.75, 'COM7': 3.25, 'PTT': 2.5, 'BDMS': 2.25, 'M': 2.0, 'AOT': 1.5, 'HMPRO': 0.8000000000000007, 'BANPU': 0.0}\n",
      "----------------------------------------------------------------------------------------------------\n",
      "result step 1: {'M': 3, 'CRC': 5, 'HMPRO': 5, 'TISCO': 7, 'CPALL': 5, 'KBANK': 3, 'DELTA': 5, 'AOT': 5, 'BANPU': 2, 'BDMS': 5, 'ADVANC': -3, 'PTTEP': 6, 'PTT': 0, 'COM7': -1, 'TOP': 6, 'SCB': -3, 'THG': 3, 'AAPL': -1, 'TSLA': -1, 'NFLX': 3, 'BNTX': -3, 'AMZN': 0, 'MSFT': 0, 'META': 0, 'NVDA': 2, 'GOOGL': 2, 'GOOG': 2, 'PYPL': 0}\n",
      "----------------------------------------------------------------------------------------------------\n",
      "TISCO 7.409885621183133\n",
      "TOP 6.5351284498779805\n",
      "PTTEP 6.364342774385007\n",
      "BDMS 5.819771242366268\n",
      "AOT 5.740071260469548\n",
      "HMPRO 5.671756990272358\n",
      "CRC 5.5123570264789175\n",
      "CPALL 5.375728486084539\n",
      "DELTA 5.034157135098593\n",
      "M 3.831156954065799\n",
      "THG 3.512357026478917\n",
      "KBANK 3.2846427924882877\n",
      "NFLX 3.1935570988920357\n",
      "BANPU 2.7286855487700157\n",
      "GOOGL 2.557899873277043\n",
      "GOOG 2.5123570264789175\n",
      "NVDA 2.250485657389693\n",
      "PTT 0.808385530666736\n",
      "PYPL 0.6489855668732951\n",
      "AMZN 0.5237427381784487\n",
      "MSFT 0.3529570626854763\n",
      "META 0.29602850418781884\n",
      "AAPL -0.3851715682252994\n",
      "COM7 -0.4079429916243623\n",
      "TSLA -0.5673429554178033\n",
      "SCB -2.487642973521083\n",
      "BNTX -2.578728667117335\n",
      "ADVANC -2.6698143607135867\n",
      "----------------------------------------------------------------------------------------------------\n"
     ]
    }
   ],
   "source": [
    "pd.set_option('display.max_rows', 500)\n",
    "pd.set_option('display.max_columns', 500)\n",
    "pd.set_option('display.width', 1000)\n",
    "\n",
    "list_stock = list()\n",
    "indicator_config = {\n",
    "    \"ema\":[\n",
    "        {\n",
    "            \"low_span\": 90,\n",
    "            \"long_span\": 95\n",
    "        },\n",
    "        {\n",
    "            \"low_span\": 100,\n",
    "            \"long_span\": 200\n",
    "        }\n",
    "    ]\n",
    "}\n",
    "\n",
    "config = {\n",
    "    \"find-min\": True,\n",
    "    \"find-max\": True\n",
    "}\n",
    "\n",
    "# loop key score\n",
    "dict_stock_name_score = {}\n",
    "dict_min_value_1 = {}\n",
    "dict_min_value_2 = {}\n",
    "dict_remaining_date = {}\n",
    "\n",
    "for key_exc in json_stock['list_stock']:\n",
    "    for namest in json_stock['list_stock'][key_exc]:\n",
    "        dict_stock_name_score.update({namest:0})\n",
    "\n",
    "print('dict_stock_name_score:',dict_stock_name_score)\n",
    "# find current date\n",
    "current_date = datetime.datetime.today().date()\n",
    "\n",
    "for key_exc in json_stock['list_stock']:\n",
    "    for namest in json_stock['list_stock'][key_exc]:\n",
    "        data = get_data(tv, key_exc, namest, 3000)\n",
    "        data = data.reset_index()\n",
    "        \n",
    "        score_ema = 0\n",
    "        score_mtfssl_pvtdiver = 0\n",
    "        for iconfig in indicator_config['ema']:\n",
    "            result_ema = cross_ema(df = data, namest = namest, **iconfig)\n",
    "\n",
    "            score_ema += result_ema[0]\n",
    "\n",
    "            for day in [1,5,10]:\n",
    "                result_mtfssl_pvtdiver = collect_mtfssl_pvtdiver(data, iconfig['low_span'],iconfig['long_span'], day)\n",
    "                score_mtfssl_pvtdiver += result_mtfssl_pvtdiver\n",
    "            \n",
    "        result_ichimoku = ichimoku_cloud(df = data, namest = namest)\n",
    "        result_macd = macd(df = data, namest= namest)\n",
    "        \n",
    "        if score_mtfssl_pvtdiver > 3:\n",
    "                score_mtfssl_pvtdiver = 3\n",
    "\n",
    "        dict_stock_name_score[namest] = dict_stock_name_score[namest] + score_ema + result_ichimoku[0] + result_macd[0] + score_mtfssl_pvtdiver\n",
    "\n",
    "        # find row with the least close value \n",
    "        # df = df[df['close'] == min(list(df['close']))] \n",
    "\n",
    "        # find date with the least value in data. do it every month\n",
    "        list_time = [62, 93]\n",
    "        for t in list_time:\n",
    "            data_follow_time = get_data(tv, key_exc, namest, t)\n",
    "            data_follow_time = data_follow_time.reset_index()\n",
    "\n",
    "            # find min value in dataframe\n",
    "            data_cal_number_days = data_follow_time[data_follow_time['close'] == min(list(data_follow_time['close']))]\n",
    "            # convert timestamp to datetime.date\n",
    "            if len(data_cal_number_days) > 1:\n",
    "                data_cal_number_days = data_cal_number_days.iloc[-1,:]\n",
    "                date_min_value = data_cal_number_days['datetime'].to_pydatetime().date()\n",
    "            else:\n",
    "                # convert numpy.datetime64 to datetime\n",
    "                date_min_value = pd.to_datetime(data_cal_number_days['datetime'].values[0]).to_pydatetime().date()\n",
    "            # date_min_value = data_cal_number_days['datetime'].to_pydatetime().date()\n",
    "            remaining_date = current_date - date_min_value\n",
    "            \n",
    "            df_min_value = data_follow_time[data_follow_time['close'] == min(list(data_follow_time['close']))]\n",
    "            df_current_value = data_follow_time.iloc[-2:-1,:]\n",
    "            if t == 62:\n",
    "                dict_min_value_1[namest] = df_current_value['close'].values[0] - min(list(data_follow_time['close']))\n",
    "                dict_remaining_date[namest] = remaining_date.days\n",
    "            else:\n",
    "                dict_min_value_2[namest] = df_current_value['close'].values[0] - min(list(data_follow_time['close']))\n",
    "                dict_remaining_date[namest] = remaining_date.days\n",
    "    #     break\n",
    "    # break\n",
    "\n",
    "# sort data by current close value minus the smallest a value in the past\n",
    "dict_min_value_1_sort = dict(sorted(dict_min_value_1.items(), key=lambda item: item[1], reverse=True))\n",
    "dict_min_value_2_sort = dict(sorted(dict_min_value_2.items(), key=lambda item: item[1], reverse=True))\n",
    "# sort data remaining date\n",
    "dict_remaining_date_sort = dict(sorted(dict_remaining_date.items(), key=lambda item: item[1], reverse=True))\n",
    "\n",
    "print('-'*100)\n",
    "print('dict_min_value_1_sort:',dict_min_value_1_sort)\n",
    "print('-'*100)\n",
    "\n",
    "print('result step 1:',dict_stock_name_score)\n",
    "\n",
    "# loop increase score\n",
    "for dict_sort_value in [dict_min_value_1_sort, dict_min_value_2_sort, dict_remaining_date_sort]:\n",
    "    # normalize score\n",
    "    list_score = [i*100 for i in range(1,len(dict_sort_value)+1)]\n",
    "    np_score = np.array(list_score)\n",
    "    normalized_arr = preprocessing.normalize([np_score])\n",
    "\n",
    "\n",
    "    dict_score = {} \n",
    "    for score,(k,v) in zip(normalized_arr.tolist()[0],dict_sort_value.items()):\n",
    "        dict_score.update({k:score})\n",
    "\n",
    "    for k,v in dict_score.items():\n",
    "        dict_stock_name_score[k] = dict_stock_name_score[k] + dict_score[k]\n",
    "\n",
    "\n",
    "dict_stock_name_score_sort = dict(sorted(dict_stock_name_score.items(), key=lambda item: item[1], reverse=True))\n",
    "print('-'*100)\n",
    "for k,v in dict_stock_name_score_sort.items():\n",
    "    print(k,v)\n",
    "print('-'*100)\n",
    "\n",
    "# score date buy last day\n",
    "\n",
    "\n",
    "# score distance between min close value and close value have to buy\n",
    "\n"
   ]
  },
  {
   "cell_type": "code",
   "execution_count": 61,
   "metadata": {},
   "outputs": [
    {
     "data": {
      "text/html": [
       "<div>\n",
       "<style scoped>\n",
       "    .dataframe tbody tr th:only-of-type {\n",
       "        vertical-align: middle;\n",
       "    }\n",
       "\n",
       "    .dataframe tbody tr th {\n",
       "        vertical-align: top;\n",
       "    }\n",
       "\n",
       "    .dataframe thead th {\n",
       "        text-align: right;\n",
       "    }\n",
       "</style>\n",
       "<table border=\"1\" class=\"dataframe\">\n",
       "  <thead>\n",
       "    <tr style=\"text-align: right;\">\n",
       "      <th></th>\n",
       "      <th>datetime</th>\n",
       "      <th>symbol</th>\n",
       "      <th>open</th>\n",
       "      <th>high</th>\n",
       "      <th>low</th>\n",
       "      <th>close</th>\n",
       "      <th>volume</th>\n",
       "    </tr>\n",
       "  </thead>\n",
       "  <tbody>\n",
       "  </tbody>\n",
       "</table>\n",
       "</div>"
      ],
      "text/plain": [
       "Empty DataFrame\n",
       "Columns: [datetime, symbol, open, high, low, close, volume]\n",
       "Index: []"
      ]
     },
     "execution_count": 61,
     "metadata": {},
     "output_type": "execute_result"
    }
   ],
   "source": [
    "df_current_value"
   ]
  },
  {
   "cell_type": "code",
   "execution_count": 11,
   "metadata": {},
   "outputs": [
    {
     "name": "stdout",
     "output_type": "stream",
     "text": [
      "TOP 8.391953200678408\n",
      "TISCO 8.30485248941654\n",
      "BDMS 6.631480156648546\n",
      "PTTEP 6.217751778154671\n",
      "KBANK 6.174201422523737\n",
      "HMPRO 5.718580867910415\n",
      "AOT 5.609704978833079\n",
      "THG 5.479053911940277\n",
      "CRC 5.4572787341248095\n",
      "CPALL 5.174201422523737\n",
      "DELTA 5.043550355630934\n",
      "BANPU 3.783906401356816\n",
      "M 3.718580867910415\n",
      "PTT 0.5879298010176119\n",
      "ADVANC 0.08710071126186844\n",
      "COM7 -0.4991709102442565\n",
      "AAPL -0.7604730440298617\n",
      "SCB -2.6733723327679932\n"
     ]
    }
   ],
   "source": [
    "for k,v in dict_stock_name_score_sort.items():\n",
    "    print(k,v)"
   ]
  },
  {
   "cell_type": "code",
   "execution_count": 17,
   "metadata": {},
   "outputs": [
    {
     "data": {
      "text/plain": [
       "18"
      ]
     },
     "execution_count": 17,
     "metadata": {},
     "output_type": "execute_result"
    }
   ],
   "source": [
    "dict_min_value_1_sort = {'DELTA': 302.0, 'ADVANC': 17.0, 'KBANK': 11.0, 'AAPL': 10.190000000000012, 'CPALL': 10.0, 'PTTEP': 7.0, 'SCB': 7.0, 'TISCO': 6.75, 'TOP': 5.75, 'THG': 4.75, 'CRC': 3.25, 'COM7': 3.25, 'PTT': 2.5, 'BDMS': 2.25, 'AOT': 2.0, 'M': 1.25, 'HMPRO': 1.0, 'BANPU': 0.09999999999999964}\n",
    "len(dict_min_value_1_sort)\n",
    "# for i,(k,v) in enumerate(dict_min_value_1_sort.items()):\n",
    "#     print(i,k,v)"
   ]
  },
  {
   "cell_type": "code",
   "execution_count": 71,
   "metadata": {},
   "outputs": [
    {
     "data": {
      "text/html": [
       "<div>\n",
       "<style scoped>\n",
       "    .dataframe tbody tr th:only-of-type {\n",
       "        vertical-align: middle;\n",
       "    }\n",
       "\n",
       "    .dataframe tbody tr th {\n",
       "        vertical-align: top;\n",
       "    }\n",
       "\n",
       "    .dataframe thead th {\n",
       "        text-align: right;\n",
       "    }\n",
       "</style>\n",
       "<table border=\"1\" class=\"dataframe\">\n",
       "  <thead>\n",
       "    <tr style=\"text-align: right;\">\n",
       "      <th></th>\n",
       "      <th>datetime</th>\n",
       "      <th>symbol</th>\n",
       "      <th>open</th>\n",
       "      <th>high</th>\n",
       "      <th>low</th>\n",
       "      <th>close</th>\n",
       "      <th>volume</th>\n",
       "    </tr>\n",
       "  </thead>\n",
       "  <tbody>\n",
       "    <tr>\n",
       "      <th>30</th>\n",
       "      <td>2022-10-07 09:00:00</td>\n",
       "      <td>SET:CPALL</td>\n",
       "      <td>54.5</td>\n",
       "      <td>54.5</td>\n",
       "      <td>53.5</td>\n",
       "      <td>53.75</td>\n",
       "      <td>11873659.0</td>\n",
       "    </tr>\n",
       "  </tbody>\n",
       "</table>\n",
       "</div>"
      ],
      "text/plain": [
       "              datetime     symbol  open  high   low  close      volume\n",
       "30 2022-10-07 09:00:00  SET:CPALL  54.5  54.5  53.5  53.75  11873659.0"
      ]
     },
     "execution_count": 71,
     "metadata": {},
     "output_type": "execute_result"
    }
   ],
   "source": [
    "df = get_data(tv, \"SET\", \"CPALL\", 100)\n",
    "df = df.reset_index()\n",
    "df = df[df['close'] == min(list(df['close']))]\n",
    "df"
   ]
  },
  {
   "cell_type": "code",
   "execution_count": 72,
   "metadata": {},
   "outputs": [
    {
     "data": {
      "text/plain": [
       "pandas.core.frame.DataFrame"
      ]
     },
     "execution_count": 72,
     "metadata": {},
     "output_type": "execute_result"
    }
   ],
   "source": [
    "type(df)"
   ]
  },
  {
   "cell_type": "code",
   "execution_count": 64,
   "metadata": {},
   "outputs": [],
   "source": [
    "if len(df)>1:\n",
    "    df = df.iloc[-1,:]"
   ]
  },
  {
   "cell_type": "code",
   "execution_count": 87,
   "metadata": {},
   "outputs": [
    {
     "data": {
      "text/plain": [
       "numpy.datetime64('2022-10-07T09:00:00.000000000')"
      ]
     },
     "execution_count": 87,
     "metadata": {},
     "output_type": "execute_result"
    }
   ],
   "source": [
    "df['datetime'].values[0]"
   ]
  },
  {
   "cell_type": "code",
   "execution_count": 123,
   "metadata": {},
   "outputs": [],
   "source": [
    "df = get_data(tv, \"SET\", \"CPALL\", 3000)\n",
    "df = df.reset_index()\n",
    "ssl_d,ssl_u = mtf_ssl(df, 250)"
   ]
  },
  {
   "cell_type": "code",
   "execution_count": 130,
   "metadata": {},
   "outputs": [
    {
     "data": {
      "text/plain": [
       "63.262"
      ]
     },
     "execution_count": 130,
     "metadata": {},
     "output_type": "execute_result"
    }
   ],
   "source": [
    "ssl_u.to_list()[-1]"
   ]
  },
  {
   "cell_type": "code",
   "execution_count": 131,
   "metadata": {},
   "outputs": [
    {
     "data": {
      "text/plain": [
       "62.177"
      ]
     },
     "execution_count": 131,
     "metadata": {},
     "output_type": "execute_result"
    }
   ],
   "source": [
    "ssl_d.to_list()[-1]"
   ]
  },
  {
   "cell_type": "code",
   "execution_count": 126,
   "metadata": {},
   "outputs": [
    {
     "data": {
      "image/png": "[encoded data removed]",
      "text/plain": [
       "<Figure size 640x480 with 1 Axes>"
      ]
     },
     "metadata": {},
     "output_type": "display_data"
    }
   ],
   "source": [
    "plt.plot(ssl_d,'r', label='ssl down')\n",
    "plt.plot(ssl_u,'g', label='ssl up')\n",
    "plt.legend()\n",
    "plt.show()"
   ]
  }
 ],
 "metadata": {
  "kernelspec": {
   "display_name": "Python 3.9.13 ('stock')",
   "language": "python",
   "name": "python3"
  },
  "language_info": {
   "codemirror_mode": {
    "name": "ipython",
    "version": 3
   },
   "file_extension": ".py",
   "mimetype": "text/x-python",
   "name": "python",
   "nbconvert_exporter": "python",
   "pygments_lexer": "ipython3",
   "version": "3.9.13"
  },
  "orig_nbformat": 4,
  "vscode": {
   "interpreter": {
    "hash": "62bf5572cc101ed9ae4fde5815e6644554f95a90271476078347a0a4f775b5be"
   }
  }
 },
 "nbformat": 4,
 "nbformat_minor": 2
}
